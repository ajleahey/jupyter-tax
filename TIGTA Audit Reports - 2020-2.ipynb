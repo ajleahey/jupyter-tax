{
 "cells": [
  {
   "cell_type": "code",
   "execution_count": 3,
   "metadata": {},
   "outputs": [
    {
     "name": "stdout",
     "output_type": "stream",
     "text": [
      "['https://www.treasury.gov/tigta/auditreports/2020reports/202045024fr.pdf', 'https://www.treasury.gov/tigta/auditreports/2020reports/202030017fr.pdf', 'https://www.treasury.gov/tigta/auditreports/2020reports/202040020fr.pdf', 'https://www.treasury.gov/tigta/auditreports/2020reports/202020012fr.pdf', 'https://www.treasury.gov/tigta/auditreports/2020reports/202020013fr.pdf', 'https://www.treasury.gov/tigta/auditreports/2020reports/202020010fr.pdf', 'https://www.treasury.gov/tigta/auditreports/2020reports/202040019fr.pdf', 'https://www.treasury.gov/tigta/auditreports/2020reports/202040014fr.pdf', 'https://www.treasury.gov/tigta/auditreports/2020reports/202010016fr.pdf', 'https://www.treasury.gov/tigta/auditreports/2020reports/202040008fr.pdf', 'https://www.treasury.gov/tigta/auditreports/2020reports/202020006fr.pdf', 'https://www.treasury.gov/tigta/auditreports/2020reports/202040009fr.pdf', 'https://www.treasury.gov/tigta/auditreports/2020reports/202010011fr.pdf', 'https://www.treasury.gov/tigta/auditreports/2020reports/202044007fr.pdf', 'https://www.treasury.gov/tigta/auditreports/2020reports/202010001fr.pdf', 'https://www.treasury.gov/tigta/auditreports/2020reports/202040005fr.pdf', 'https://www.treasury.gov/tigta/auditreports/2020reports/202040004fr.pdf', 'https://www.treasury.gov/tigta/auditreports/2020reports/202010003fr.pdf', 'https://www.treasury.gov/tigta/auditreports/2020reports/202010002fr.pdf']\n"
     ]
    }
   ],
   "source": [
    "from urllib import request\n",
    "from bs4 import BeautifulSoup\n",
    "import re\n",
    "import os\n",
    "import urllib\n",
    "\n",
    "# connect to TIGTA and get list of all pdfs listed\n",
    "url=\"https://www.treasury.gov/tigta/oa_auditreports_fy20_noscript.shtml\"\n",
    "response = request.urlopen(url).read()\n",
    "soup= BeautifulSoup(response, \"html.parser\")     \n",
    "links = soup.find_all('a', href=re.compile(r'(.pdf)'))\n",
    "\n",
    "\n",
    "# clean the link names\n",
    "url_list = []\n",
    "for el in links:\n",
    "    if(el['href'].startswith('http')):\n",
    "        url_list.append(el['href'])\n",
    "    else:\n",
    "        url_list.append(\"https://www.treasury.gov/tigta/\" + el['href'])\n",
    "\n",
    "print(url_list)"
   ]
  },
  {
   "cell_type": "code",
   "execution_count": 2,
   "metadata": {},
   "outputs": [
    {
     "name": "stdout",
     "output_type": "stream",
     "text": [
      "https://www.treasury.gov/tigta/auditreports/2020reports/auditreports/2020reports/202045024fr.pdf\n",
      "/home/jupyter-aleahey/Tax/auditreports/2020reports/auditreports/2020reports/202045024fr.pdf\n"
     ]
    },
    {
     "ename": "FileNotFoundError",
     "evalue": "[Errno 2] No such file or directory: '/home/jupyter-aleahey/Tax/auditreports/2020reports/auditreports/2020reports/202045024fr.pdf'",
     "output_type": "error",
     "traceback": [
      "\u001b[0;31m---------------------------------------------------------------------------\u001b[0m",
      "\u001b[0;31mFileNotFoundError\u001b[0m                         Traceback (most recent call last)",
      "\u001b[0;32m<ipython-input-2-77a60d623e93>\u001b[0m in \u001b[0;36m<module>\u001b[0;34m\u001b[0m\n\u001b[1;32m      4\u001b[0m     \u001b[0mfullfilename\u001b[0m \u001b[0;34m=\u001b[0m \u001b[0mos\u001b[0m\u001b[0;34m.\u001b[0m\u001b[0mpath\u001b[0m\u001b[0;34m.\u001b[0m\u001b[0mjoin\u001b[0m\u001b[0;34m(\u001b[0m\u001b[0;34m'/home/jupyter-aleahey/Tax'\u001b[0m\u001b[0;34m,\u001b[0m \u001b[0murl\u001b[0m\u001b[0;34m.\u001b[0m\u001b[0mreplace\u001b[0m\u001b[0;34m(\u001b[0m\u001b[0;34m\"https://www.treasury.gov/tigta/\"\u001b[0m\u001b[0;34m,\u001b[0m \u001b[0;34m\"\"\u001b[0m\u001b[0;34m)\u001b[0m\u001b[0;34m)\u001b[0m\u001b[0;34m\u001b[0m\u001b[0;34m\u001b[0m\u001b[0m\n\u001b[1;32m      5\u001b[0m     \u001b[0mprint\u001b[0m\u001b[0;34m(\u001b[0m\u001b[0mfullfilename\u001b[0m\u001b[0;34m)\u001b[0m\u001b[0;34m\u001b[0m\u001b[0;34m\u001b[0m\u001b[0m\n\u001b[0;32m----> 6\u001b[0;31m     \u001b[0mrequest\u001b[0m\u001b[0;34m.\u001b[0m\u001b[0murlretrieve\u001b[0m\u001b[0;34m(\u001b[0m\u001b[0murl\u001b[0m\u001b[0;34m,\u001b[0m \u001b[0mfullfilename\u001b[0m\u001b[0;34m)\u001b[0m\u001b[0;34m\u001b[0m\u001b[0;34m\u001b[0m\u001b[0m\n\u001b[0m",
      "\u001b[0;32m/opt/tljh/user/lib/python3.7/urllib/request.py\u001b[0m in \u001b[0;36murlretrieve\u001b[0;34m(url, filename, reporthook, data)\u001b[0m\n\u001b[1;32m    255\u001b[0m         \u001b[0;31m# Handle temporary file setup.\u001b[0m\u001b[0;34m\u001b[0m\u001b[0;34m\u001b[0m\u001b[0;34m\u001b[0m\u001b[0m\n\u001b[1;32m    256\u001b[0m         \u001b[0;32mif\u001b[0m \u001b[0mfilename\u001b[0m\u001b[0;34m:\u001b[0m\u001b[0;34m\u001b[0m\u001b[0;34m\u001b[0m\u001b[0m\n\u001b[0;32m--> 257\u001b[0;31m             \u001b[0mtfp\u001b[0m \u001b[0;34m=\u001b[0m \u001b[0mopen\u001b[0m\u001b[0;34m(\u001b[0m\u001b[0mfilename\u001b[0m\u001b[0;34m,\u001b[0m \u001b[0;34m'wb'\u001b[0m\u001b[0;34m)\u001b[0m\u001b[0;34m\u001b[0m\u001b[0;34m\u001b[0m\u001b[0m\n\u001b[0m\u001b[1;32m    258\u001b[0m         \u001b[0;32melse\u001b[0m\u001b[0;34m:\u001b[0m\u001b[0;34m\u001b[0m\u001b[0;34m\u001b[0m\u001b[0m\n\u001b[1;32m    259\u001b[0m             \u001b[0mtfp\u001b[0m \u001b[0;34m=\u001b[0m \u001b[0mtempfile\u001b[0m\u001b[0;34m.\u001b[0m\u001b[0mNamedTemporaryFile\u001b[0m\u001b[0;34m(\u001b[0m\u001b[0mdelete\u001b[0m\u001b[0;34m=\u001b[0m\u001b[0;32mFalse\u001b[0m\u001b[0;34m)\u001b[0m\u001b[0;34m\u001b[0m\u001b[0;34m\u001b[0m\u001b[0m\n",
      "\u001b[0;31mFileNotFoundError\u001b[0m: [Errno 2] No such file or directory: '/home/jupyter-aleahey/Tax/auditreports/2020reports/auditreports/2020reports/202045024fr.pdf'"
     ]
    }
   ],
   "source": [
    "# download the pdfs to a specified location\n",
    "for url in url_list:\n",
    "    print(url)\n",
    "    fullfilename = os.path.join('/home/jupyter-aleahey/Tax', url.replace(\"https://www.treasury.gov/tigta/\", \"\"))\n",
    "    print(fullfilename)\n",
    "    request.urlretrieve(url, fullfilename)"
   ]
  },
  {
   "cell_type": "code",
   "execution_count": null,
   "metadata": {},
   "outputs": [],
   "source": []
  }
 ],
 "metadata": {
  "kernelspec": {
   "display_name": "Python 3",
   "language": "python",
   "name": "python3"
  },
  "language_info": {
   "codemirror_mode": {
    "name": "ipython",
    "version": 3
   },
   "file_extension": ".py",
   "mimetype": "text/x-python",
   "name": "python",
   "nbconvert_exporter": "python",
   "pygments_lexer": "ipython3",
   "version": "3.7.7"
  }
 },
 "nbformat": 4,
 "nbformat_minor": 2
}
